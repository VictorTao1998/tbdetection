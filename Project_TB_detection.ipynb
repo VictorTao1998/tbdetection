{
 "cells": [
  {
   "cell_type": "markdown",
   "id": "ff1ede8c",
   "metadata": {},
   "source": [
    "## Data Loader"
   ]
  },
  {
   "cell_type": "code",
   "execution_count": 170,
   "id": "89309d80",
   "metadata": {},
   "outputs": [
    {
     "name": "stdout",
     "output_type": "stream",
     "text": [
      "Using PyTorch version 1.11.0\n"
     ]
    }
   ],
   "source": [
    "%matplotlib inline\n",
    "\n",
    "import os\n",
    "import shutil\n",
    "import random\n",
    "import torch\n",
    "import torchvision\n",
    "import numpy as np\n",
    "import time\n",
    "import torch\n",
    "from torchvision import transforms, datasets\n",
    "from torch.utils.data import DataLoader, random_split\n",
    "import pdb\n",
    "from PIL import Image\n",
    "from matplotlib import pyplot as plt\n",
    "import argparse\n",
    "torch.manual_seed(0)\n",
    "\n",
    "import torch.nn as nn\n",
    "import torch.nn.functional as F\n",
    "\n",
    "print('Using PyTorch version', torch.__version__)\n",
    "\n",
    "\n",
    "from os.path import isfile\n",
    "from os import rename\n",
    "SMOOTH=1\n",
    "import pdb\n",
    "from sklearn.metrics import auc, roc_curve\n",
    "from PIL.ImageFilter import GaussianBlur\n",
    "\n",
    "# import pdb\n",
    "from numpy import pi as PI\n",
    "from numpy import sqrt\n",
    "from scipy.special import comb\n",
    "import math\n",
    "# tensorflow libraries\n",
    "# import tensorflow as tf\n",
    "# from tensorflow import keras\n",
    "# from keras.preprocessing.image import ImageDataGenerator"
   ]
  },
  {
   "cell_type": "code",
   "execution_count": 171,
   "id": "c0be2661",
   "metadata": {},
   "outputs": [],
   "source": [
    "# Miscellaneous initialization\n",
    "torch.manual_seed(1)\n",
    "start_time = time.time()\n",
    "parser = argparse.ArgumentParser()"
   ]
  },
  {
   "cell_type": "code",
   "execution_count": 172,
   "id": "c0d5de43",
   "metadata": {},
   "outputs": [],
   "source": [
    "train_dataset_path = \"\"\n",
    "test_dataset_path = \"\""
   ]
  },
  {
   "cell_type": "code",
   "execution_count": 173,
   "id": "9fc58232",
   "metadata": {},
   "outputs": [],
   "source": [
    "root_dir = \"/Users/harshitb/Desktop/Studies/ECE 228/TB_dataset/TB_Chest_Radiography_Database\"\n",
    "class_names = ['Normal', 'Tuberculosis']\n",
    "source_dirs = ['Normal', 'Tuberculosis']\n"
   ]
  },
  {
   "cell_type": "code",
   "execution_count": 174,
   "id": "930810b5",
   "metadata": {},
   "outputs": [],
   "source": [
    "parser.add_argument('--num_epochs', type=int, default=5, help='Number of training epochs')\n",
    "parser.add_argument('--batch_size', type=int, default=32, help='Batch size')\n",
    "parser.add_argument('--lr', type=float, default=5e-4, help='Learning rate')\n",
    "parser.add_argument('--l2', type=float, default=0, help='L2 regularisation')\n",
    "parser.add_argument('--aug', action='store_true', default=False, help='Use data augmentation')\n",
    "parser.add_argument('--data_path', type=str, default=root_dir,help='Path to data.')\n",
    "parser.add_argument('--bond_dim', type=int, default=5, help='MPS Bond dimension')\n",
    "parser.add_argument('--nChannel', type=int, default=1, help='Number of input channels')\n",
    "parser.add_argument('--dense_net', action='store_true', default=False, help='Using Dense Net model')\n",
    "\n",
    "args = parser.parse_args([])"
   ]
  },
  {
   "cell_type": "code",
   "execution_count": 175,
   "id": "684a5c7a",
   "metadata": {},
   "outputs": [],
   "source": [
    "batch_size = args.batch_size\n",
    "\n",
    "# LoTeNet parameters\n",
    "adaptive_mode = False \n",
    "periodic_bc   = False\n",
    "\n",
    "kernel = 2 # Stride along spatial dimensions\n",
    "output_dim = 1 # output dimension\n",
    " \n",
    "feature_dim = 2\n",
    "\n",
    "#logFile = time.strftime(\"%Y%m%d_%H_%M\")+'.txt'\n",
    "#makeLogFile(logFile)\n",
    "\n",
    "normTensor = 0.5*torch.ones(args.nChannel)\n",
    "### Data processing and loading....\n"
   ]
  },
  {
   "cell_type": "code",
   "execution_count": 176,
   "id": "dc2837a8",
   "metadata": {},
   "outputs": [],
   "source": [
    "### Data processing and loading....\n",
    "# mean=[0.485, 0.456, 0.406], std=[0.229,0.224,0.225]\n",
    "train_transform = transforms.Compose([transforms.RandomHorizontalFlip(),\n",
    "                                      transforms.Resize(size=(128,128)),\n",
    "                                      transforms.RandomVerticalFlip(),\n",
    "                                      transforms.RandomRotation(20),\n",
    "                                      transforms.ToTensor(),\n",
    "                                      transforms.Normalize(mean=normTensor,std=normTensor)])\n",
    "\n",
    "valid_transform = torchvision.transforms.Compose([\n",
    "    torchvision.transforms.Resize(size=(128,128)),\n",
    "    torchvision.transforms.RandomHorizontalFlip(),\n",
    "    torchvision.transforms.RandomRotation(20),\n",
    "    torchvision.transforms.ToTensor(),\n",
    "    transforms.Normalize(mean=normTensor,std=normTensor)\n",
    "    #torchvision.transforms.Normalize(mean=[0.485, 0.456, 0.406], std=[0.229,0.224,0.225])\n",
    "])"
   ]
  },
  {
   "cell_type": "code",
   "execution_count": 177,
   "id": "a87dbe28",
   "metadata": {},
   "outputs": [],
   "source": [
    "class ChestXRayDataset(torch.utils.data.Dataset):\n",
    "    def __init__(self, image_dirs,transform):\n",
    "        def get_images(class_name):\n",
    "            images = [x for x in os.listdir(image_dirs[class_name]) if x.lower().endswith('png')]\n",
    "            print(f'Found {len(images)}{class_name}')\n",
    "            return images\n",
    "        self.images={}\n",
    "        self.class_names=['Normal', 'Tuberculosis']\n",
    "        for c in self.class_names:\n",
    "            self.images[c]=get_images(c)\n",
    "        self.image_dirs=image_dirs\n",
    "        self.transform=transform\n",
    "        \n",
    "    \n",
    "    def __len__(self):\n",
    "        return sum([len(self.images[c]) for c in self.class_names])\n",
    "    def __getitem__(self, index):\n",
    "        class_name=random.choice(self.class_names)\n",
    "        index=index%len(self.images[class_name])\n",
    "        image_name=self.images[class_name][index]\n",
    "        image_path =os.path.join(self.image_dirs[class_name], image_name)\n",
    "        image=Image.open(image_path).convert('L')\n",
    "        return self.transform(image), self.class_names.index(class_name)"
   ]
  },
  {
   "cell_type": "code",
   "execution_count": 178,
   "id": "56fa2063",
   "metadata": {},
   "outputs": [
    {
     "name": "stdout",
     "output_type": "stream",
     "text": [
      "Found 3500Normal\n",
      "Found 700Tuberculosis\n"
     ]
    }
   ],
   "source": [
    "train_dirs = {\n",
    "    'Normal': root_dir + '/Normal',\n",
    "    'Tuberculosis': root_dir + '/Tuberculosis'\n",
    "}\n",
    "dataset = ChestXRayDataset(train_dirs, train_transform)"
   ]
  },
  {
   "cell_type": "code",
   "execution_count": 179,
   "id": "d6795fba",
   "metadata": {},
   "outputs": [],
   "source": [
    "f,l = dataset[0]"
   ]
  },
  {
   "cell_type": "code",
   "execution_count": 184,
   "id": "cfaf2476",
   "metadata": {},
   "outputs": [
    {
     "data": {
      "text/plain": [
       "4200"
      ]
     },
     "execution_count": 184,
     "metadata": {},
     "output_type": "execute_result"
    }
   ],
   "source": [
    "len(dataset)"
   ]
  },
  {
   "cell_type": "code",
   "execution_count": 180,
   "id": "fbe34a7b",
   "metadata": {},
   "outputs": [],
   "source": [
    "trainset, testset, valset = random_split(dataset, [3500, 500, 200])"
   ]
  },
  {
   "cell_type": "code",
   "execution_count": 181,
   "id": "1288b798",
   "metadata": {},
   "outputs": [],
   "source": [
    "train_loader =  torch.utils.data.DataLoader(trainset, batch_size=batch_size, shuffle=True)\n",
    "test_loader =  torch.utils.data.DataLoader(testset, batch_size=batch_size, shuffle=True)\n",
    "val_loader = torch.utils.data.DataLoader(valset, batch_size=batch_size, shuffle=True)"
   ]
  },
  {
   "cell_type": "code",
   "execution_count": 231,
   "id": "74cad098",
   "metadata": {},
   "outputs": [
    {
     "data": {
      "text/plain": [
       "32"
      ]
     },
     "execution_count": 231,
     "metadata": {},
     "output_type": "execute_result"
    }
   ],
   "source": [
    "args.num_epochs = 5\n",
    "batch_size"
   ]
  },
  {
   "cell_type": "code",
   "execution_count": 230,
   "id": "48c9cd8b",
   "metadata": {},
   "outputs": [],
   "source": [
    "# num_epochs = args.num_epochs\n",
    "# total_samples = 3500\n",
    "# n_iterations = math.ceil(total_samples/batch_size)\n",
    "# for epoch in range(args.num_epochs):\n",
    "#     for i, (inputs, labels) in enumerate(train_loader):\n",
    "#         if (i+1) % 10 == 0:\n",
    "#             print(f'Epoch: {epoch+1}/{num_epochs}, \\\n",
    "#                     Step {i+1}/{n_iterations}| Inputs {inputs.shape} | Labels {labels.shape}')"
   ]
  },
  {
   "cell_type": "code",
   "execution_count": 215,
   "id": "22a839de",
   "metadata": {},
   "outputs": [
    {
     "name": "stdout",
     "output_type": "stream",
     "text": [
      "C1:  torch.Size([12, 6, 124, 124])\n",
      "P1:  torch.Size([12, 6, 62, 62])\n",
      "C2:  torch.Size([12, 16, 58, 58])\n",
      "P1:  torch.Size([12, 16, 29, 29])\n",
      "F1:  torch.Size([12, 120])\n"
     ]
    }
   ],
   "source": [
    "x = inputs\n",
    "\n",
    "conv1 = nn.Conv2d(1, 6, 5)\n",
    "x = conv1(x)\n",
    "print(\"C1: \", x.shape)\n",
    "\n",
    "pool = nn.MaxPool2d(2, 2)\n",
    "x = pool(x)\n",
    "print(\"P1: \", x.shape)\n",
    "\n",
    "conv2 = nn.Conv2d(6, 16, 5)\n",
    "x = conv2(x)\n",
    "print(\"C2: \", x.shape)\n",
    "\n",
    "x = pool(x)\n",
    "print(\"P1: \", x.shape)\n",
    "\n",
    "xl = 1\n",
    "for i in x.shape[1:]: xl *= i\n",
    "fc1 = nn.Linear(xl, 120)\n",
    "x = x.view(-1, xl) \n",
    "x = fc1(x)\n",
    "print(\"F1: \", x.shape)\n",
    "\n",
    "# self.fc1 = nn.Linear(16 * 5 * 5, 120)\n",
    "# self.fc2 = nn.Linear(120, 84)\n",
    "# self.fc3 = nn.Linear(84, 10)"
   ]
  },
  {
   "cell_type": "code",
   "execution_count": 216,
   "id": "a0fc8086",
   "metadata": {},
   "outputs": [],
   "source": [
    "class ConvNet(nn.Module):\n",
    "    def __init__(self):\n",
    "        super(ConvNet, self).__init__()\n",
    "        self.conv1 = nn.Conv2d(1, 6, 5)\n",
    "        self.pool = nn.MaxPool2d(2, 2)\n",
    "        self.conv2 = nn.Conv2d(6, 16, 5)\n",
    "        #         xl = 1\n",
    "        #         for i in x.shape[1:]: xl *= i\n",
    "        self.fc1 = nn.Linear(13456, 120)\n",
    "        self.fc2 = nn.Linear(120, 84)\n",
    "        self.fc3 = nn.Linear(84, 2)\n",
    "\n",
    "    def forward(self, x):\n",
    "        # -> n, 3, 32, 32\n",
    "        x = self.pool(F.relu(self.conv1(x)))  # -> n, 6, 14, 14\n",
    "        x = self.pool(F.relu(self.conv2(x)))\n",
    "        xl = 1\n",
    "        for i in x.shape[1:]: xl *= i\n",
    "        x = x.view(-1, xl)            # \n",
    "        x = F.relu(self.fc1(x))               # -> n, 120\n",
    "        x = F.relu(self.fc2(x))               # -> n, 84\n",
    "        x = self.fc3(x)                       # -> n, 2\n",
    "        return x"
   ]
  },
  {
   "cell_type": "code",
   "execution_count": 233,
   "id": "af466cec",
   "metadata": {},
   "outputs": [
    {
     "name": "stdout",
     "output_type": "stream",
     "text": [
      "Epoch [1/5], Step [10/110], Loss: 0.6940\n",
      "Epoch [1/5], Step [20/110], Loss: 0.6943\n",
      "Epoch [1/5], Step [30/110], Loss: 0.6946\n",
      "Epoch [1/5], Step [40/110], Loss: 0.6938\n",
      "Epoch [1/5], Step [50/110], Loss: 0.6906\n",
      "Epoch [1/5], Step [60/110], Loss: 0.6952\n",
      "Epoch [1/5], Step [70/110], Loss: 0.6935\n",
      "Epoch [1/5], Step [80/110], Loss: 0.6953\n",
      "Epoch [1/5], Step [90/110], Loss: 0.6905\n",
      "Epoch [1/5], Step [100/110], Loss: 0.6957\n",
      "Epoch [1/5], Step [110/110], Loss: 0.6946\n",
      "Epoch [2/5], Step [10/110], Loss: 0.6901\n",
      "Epoch [2/5], Step [20/110], Loss: 0.6949\n",
      "Epoch [2/5], Step [30/110], Loss: 0.6873\n",
      "Epoch [2/5], Step [40/110], Loss: 0.6905\n",
      "Epoch [2/5], Step [50/110], Loss: 0.6944\n",
      "Epoch [2/5], Step [60/110], Loss: 0.6934\n",
      "Epoch [2/5], Step [70/110], Loss: 0.6908\n",
      "Epoch [2/5], Step [80/110], Loss: 0.6910\n",
      "Epoch [2/5], Step [90/110], Loss: 0.6915\n",
      "Epoch [2/5], Step [100/110], Loss: 0.6918\n",
      "Epoch [2/5], Step [110/110], Loss: 0.6925\n",
      "Epoch [3/5], Step [10/110], Loss: 0.6933\n",
      "Epoch [3/5], Step [20/110], Loss: 0.6951\n",
      "Epoch [3/5], Step [30/110], Loss: 0.6921\n",
      "Epoch [3/5], Step [40/110], Loss: 0.6912\n",
      "Epoch [3/5], Step [50/110], Loss: 0.6916\n",
      "Epoch [3/5], Step [60/110], Loss: 0.6917\n",
      "Epoch [3/5], Step [70/110], Loss: 0.6914\n",
      "Epoch [3/5], Step [80/110], Loss: 0.6926\n",
      "Epoch [3/5], Step [90/110], Loss: 0.6914\n",
      "Epoch [3/5], Step [100/110], Loss: 0.6915\n",
      "Epoch [3/5], Step [110/110], Loss: 0.6931\n",
      "Epoch [4/5], Step [10/110], Loss: 0.6912\n",
      "Epoch [4/5], Step [20/110], Loss: 0.6913\n",
      "Epoch [4/5], Step [30/110], Loss: 0.6894\n",
      "Epoch [4/5], Step [40/110], Loss: 0.6924\n",
      "Epoch [4/5], Step [50/110], Loss: 0.6905\n",
      "Epoch [4/5], Step [60/110], Loss: 0.6901\n",
      "Epoch [4/5], Step [70/110], Loss: 0.6899\n",
      "Epoch [4/5], Step [80/110], Loss: 0.6906\n",
      "Epoch [4/5], Step [90/110], Loss: 0.6906\n",
      "Epoch [4/5], Step [100/110], Loss: 0.6900\n",
      "Epoch [4/5], Step [110/110], Loss: 0.6921\n",
      "Epoch [5/5], Step [10/110], Loss: 0.6907\n",
      "Epoch [5/5], Step [20/110], Loss: 0.6915\n",
      "Epoch [5/5], Step [30/110], Loss: 0.6911\n",
      "Epoch [5/5], Step [40/110], Loss: 0.6898\n",
      "Epoch [5/5], Step [50/110], Loss: 0.6899\n",
      "Epoch [5/5], Step [60/110], Loss: 0.6901\n",
      "Epoch [5/5], Step [70/110], Loss: 0.6895\n",
      "Epoch [5/5], Step [80/110], Loss: 0.6904\n",
      "Epoch [5/5], Step [90/110], Loss: 0.6890\n",
      "Epoch [5/5], Step [100/110], Loss: 0.6894\n",
      "Epoch [5/5], Step [110/110], Loss: 0.6899\n"
     ]
    }
   ],
   "source": [
    "model = ConvNet()\n",
    "learning_rate = 0.001\n",
    "\n",
    "criterion = nn.CrossEntropyLoss()\n",
    "optimizer = torch.optim.SGD(model.parameters(), lr=learning_rate)\n",
    "\n",
    "n_total_steps = len(train_loader)\n",
    "for epoch in range(args.num_epochs):\n",
    "    for i, (images, labels) in enumerate(train_loader):\n",
    "\n",
    "        # Forward pass\n",
    "        outputs = model(images)\n",
    "        loss = criterion(outputs, labels)\n",
    "\n",
    "        # Backward and optimize\n",
    "        optimizer.zero_grad()\n",
    "        loss.backward()\n",
    "        optimizer.step()\n",
    "\n",
    "        if (i+1) % 10 == 0:\n",
    "            print (f'Epoch [{epoch+1}/{args.num_epochs}], Step [{i+1}/{n_total_steps}], Loss: {loss.item():.4f}')"
   ]
  },
  {
   "cell_type": "code",
   "execution_count": null,
   "id": "d13da514",
   "metadata": {},
   "outputs": [],
   "source": [
    "# pytorch res, res101.. "
   ]
  },
  {
   "cell_type": "code",
   "execution_count": 234,
   "id": "c60e9c43",
   "metadata": {},
   "outputs": [
    {
     "name": "stdout",
     "output_type": "stream",
     "text": [
      "Accuracy of the network: 68.2 %\n",
      "Accuracy of Normal: 36.554621848739494 %\n",
      "Accuracy of Tuberculosis: 96.94656488549619 %\n"
     ]
    }
   ],
   "source": [
    "with torch.no_grad():\n",
    "    n_correct = 0\n",
    "    n_samples = 0\n",
    "    n_class_correct = [0 for i in range(2)]\n",
    "    n_class_samples = [0 for i in range(2)]\n",
    "    for images, labels in test_loader:\n",
    "        #         print(len(labels))\n",
    "        outputs = model(images)\n",
    "        # max returns (value ,index)\n",
    "        _, predicted = torch.max(outputs, 1)\n",
    "        n_samples += labels.size(0)\n",
    "        n_correct += (predicted == labels).sum().item()\n",
    "        \n",
    "        for i in range(len(labels)):\n",
    "            label = labels[i]\n",
    "            pred = predicted[i]\n",
    "            if (label == pred):\n",
    "                n_class_correct[label] += 1\n",
    "            n_class_samples[label] += 1\n",
    "\n",
    "    acc = 100.0 * n_correct / n_samples\n",
    "    print(f'Accuracy of the network: {acc} %')\n",
    "\n",
    "    for i in range(2):\n",
    "        acc = 100.0 * n_class_correct[i] / n_class_samples[i]\n",
    "        print(f'Accuracy of {class_names[i]}: {acc} %')"
   ]
  },
  {
   "cell_type": "code",
   "execution_count": null,
   "id": "e682432e",
   "metadata": {},
   "outputs": [],
   "source": []
  }
 ],
 "metadata": {
  "kernelspec": {
   "display_name": "Python 3",
   "language": "python",
   "name": "python3"
  },
  "language_info": {
   "codemirror_mode": {
    "name": "ipython",
    "version": 3
   },
   "file_extension": ".py",
   "mimetype": "text/x-python",
   "name": "python",
   "nbconvert_exporter": "python",
   "pygments_lexer": "ipython3",
   "version": "3.8.8"
  }
 },
 "nbformat": 4,
 "nbformat_minor": 5
}
